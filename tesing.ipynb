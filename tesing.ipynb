{
 "cells": [
  {
   "cell_type": "code",
   "execution_count": 3,
   "metadata": {},
   "outputs": [],
   "source": [
    "import spotipy\n",
    "import random\n",
    "from selenium.webdriver.common.keys import Keys\n",
    "from selenium.webdriver.common.by import By\n",
    "import time\n",
    "from selenium import webdriver\n",
    "from youtubesearchpython import VideosSearch\n",
    "# from icecream import ic\n",
    "from spotipy.oauth2 import SpotifyClientCredentials\n",
    "\n",
    "# birdy_uri = 'spotify:artist:2WX2uTcsvV5OnS0inACecP'\n",
    "spotify = spotipy.Spotify(client_credentials_manager=SpotifyClientCredentials(client_id=\"873b67cbe5e945c0b4857033a05b3150\", client_secret=\"e53a133f4bbe426b8182b5b25eb6d0c4\"))\n",
    "\n",
    "# results = spotify.artist_albums(birdy_uri, album_type='album')\n",
    "# albums = results['items']\n",
    "# while results['next']:\n",
    "#     results = spotify.next(results)\n",
    "#     albums.extend(results['items'])\n",
    "\n",
    "# for album in albums:\n",
    "#     print(album['name'])"
   ]
  },
  {
   "cell_type": "code",
   "execution_count": 4,
   "metadata": {},
   "outputs": [],
   "source": [
    "def get_song_details(TNS, lang):\n",
    "    The_Native_Suite = spotify.playlist(TNS)\n",
    "    # The_Native_Suite['tracks']\n",
    "    TNS_track =  The_Native_Suite['tracks']\n",
    "    # ic(TNS_track['items'][5]['track']['album']['artists'][0]['name'])\n",
    "    # ic(TNS_track['items'][5]['track']['album']['name'])\n",
    "\n",
    "\n",
    "    TNS_dic = {}\n",
    "    while TNS_track:\n",
    "\n",
    "        # i = 0\n",
    "        for i in range(len(TNS_track['items'])):\n",
    "\n",
    "            t_name = TNS_track['items'][i]['track']['name']\n",
    "            t_artists = TNS_track['items'][i]['track']['album']['artists']\n",
    "            t_album = TNS_track['items'][i]['track']['album']['name']\n",
    "            t_added_at = TNS_track['items'][i]['added_at']\n",
    "\n",
    "            if t_name and t_artists:\n",
    "                TNS_dic[t_name] =  {'artist': t_artists[0]['name'],\n",
    "                                    'album': t_album,\n",
    "                                    'added_at': t_added_at}\n",
    "\n",
    "            # debug\n",
    "            # print('mgc_id_000', TNS_dic)\n",
    "            # return\n",
    "        \n",
    "        TNS_track = spotify.next(TNS_track)\n",
    "\n",
    "    # print(TNS_dic)\n",
    "    return(TNS_dic)\n"
   ]
  },
  {
   "cell_type": "code",
   "execution_count": 5,
   "metadata": {},
   "outputs": [],
   "source": [
    "def play_songs(url, lang, brow, shuffle):   \n",
    "    TNS_dic = get_song_details(url, lang)\n",
    "\n",
    "    keys = list(TNS_dic.keys())\n",
    "    print(keys)\n",
    "    t_sleep = 20\n",
    "    \n",
    "    #debug\n",
    "    # return\n",
    "\n",
    "    if brow.lower() == \"chrome\":\n",
    "        browser = webdriver.Chrome()\n",
    "    elif brow.lower() == \"edge\":\n",
    "        browser = webdriver.Edge()\n",
    "    elif brow.lower() == \"safari\":\n",
    "        browser = webdriver.Safari()\n",
    "    elif brow.lower() == \"firefox\":\n",
    "        browser = webdriver.Firefox()\n",
    "    else:\n",
    "        print(\"No Browser found\")\n",
    "        return 0\n",
    "\n",
    "    while keys:\n",
    "        \n",
    "        # browser.fullscreen_window()\n",
    "\n",
    "        if not shuffle:\n",
    "            print('playing the latest added songs')\n",
    "            key = keys.pop()\n",
    "        else:\n",
    "            print ('playing random songs')\n",
    "            key = random.choice(keys)\n",
    "\n",
    "        try:\n",
    "            videos = VideosSearch(key+\" \"+TNS_dic[key].get('artist')+\" \"+\"video\"+\" \"+TNS_dic[key].get('album')+\" \"+lang, limit=3)\n",
    "\n",
    "            if videos.result()['result']:\n",
    "\n",
    "                yt_duration = videos.result()['result'][0]['duration']\n",
    "                yt_link = videos.result()['result'][0]['link']\n",
    "\n",
    "                for i in videos.result()['result']:\n",
    "\n",
    "                    temp_title = i.get('title')\n",
    "                    # print(temp_title)\n",
    "                    if ((\"Video\" in temp_title) or (\"video\" in temp_title)) and (((\"lyric\" not in temp_title) or ((\"Lyric\" not in temp_title)))):\n",
    "                        print(\"video:\",temp_title)\n",
    "\n",
    "                        yt_duration = i.get('duration')\n",
    "                        yt_link = i.get('link')\n",
    "\n",
    "                        break\n",
    "            time_sec = yt_duration.split(':')\n",
    "\n",
    "            if len(time_sec) > 1:\n",
    "                kk = int(time_sec[0])*60 + int(time_sec[1])\n",
    "            else:\n",
    "                kk = int(time_sec[0])\n",
    "\n",
    "            if kk > 500:\n",
    "                continue\n",
    "            \n",
    "            print(TNS_dic[key])\n",
    "\n",
    "            browser.get(yt_link)\n",
    "\n",
    "            time.sleep(t_sleep)\n",
    "\n",
    "            body = browser.find_element(By.TAG_NAME, \"body\")\n",
    "            body.send_keys(Keys.SPACE)\n",
    "\n",
    "            time.sleep(3)\n",
    "\n",
    "            body.send_keys(\"F\")\n",
    "\n",
    "            # time_sec = yt_duration.split(':')\n",
    "            # if len(time_sec) > 1:\n",
    "            #     kk = int(time_sec[0])*60 + int(time_sec[1])\n",
    "            # else:\n",
    "            #     kk = int(time_sec[0])\n",
    "\n",
    "            time.sleep(kk)\n",
    "\n",
    "        except:\n",
    "            print(\"some error occurred\")\n",
    "\n",
    "        if shuffle:\n",
    "            keys.remove(key)\n",
    "\n",
    "        t_sleep = 5\n",
    "        \n",
    "    browser.quit()"
   ]
  },
  {
   "cell_type": "code",
   "execution_count": null,
   "metadata": {},
   "outputs": [
    {
     "name": "stdout",
     "output_type": "stream",
     "text": [
      "['Priyathama Priyathama', 'Undiporaadhey', 'Rowdy Baby', 'Emai Poyave', 'Inthalo Ennenni Vinthalo - Male Version', 'Uppenantha', 'Dhaari Choodu', 'Gusa Gusa Lade', 'Meghaalu Lekunna', 'Cheppave Chirugali - From \"Okkadu\"', 'Apple Beauty', 'Vachaadayyo Saami (From \"Bharat Ane Nenu\")', 'Pakka Local', 'Jigelu Rani', 'Naa Peru Meenakumari', 'Alludu Seenu', 'Ringa Ringa', 'Super Machi', 'Bujji Pilla', 'Last Bench', 'Oosupodu', 'Gaali Vaaluga', 'Ninnila', 'Mahanati', 'Chitike (From \"Gang\")', 'Nuvvunte Naa Jathagaa', 'Ladiyo', 'Poolane Kunukeyamantaa', 'Pareshanayya', 'Adiga Adiga', 'Unnatundi Gundey', 'Chinnadhana', 'Violin Song', 'Oh Priya Priya', 'Choododde nannu', 'Chiguraku chatu', 'Gala Gala Paruthunna', 'Ee Hridayam', 'Kopama Napina', 'Evare Nuvvu', 'Endhuko Pichi Pichi', 'Ekkada Ekkada', 'Neevalle Nevalle', 'Subhalekha (From \"Kondaveeti Donga\")', 'Bommanu Geesthey', 'Nenu Nuvvantu', 'Seethakaalam', 'O Madhu', 'Gaallo Thelinattunde', 'Nammavemo', 'Chali Chaliga', 'Nijanga Nenena', 'Kanulanu Thaake', 'Mellaga', 'Vellipomaake', 'Radhe Govinda', 'Niluvaddham', 'Nuvvunte', 'Baby He Loves You', 'Mr. Perfect - DSP Mix', 'Attu Nuvve', 'Choosi Chudangane', 'Arere Yekkada', 'Apudo Ipudo', 'Kannaa Nidurinchara', 'Oka Praanam', 'Motta Modatisari', 'Follow Follow', 'Dont Stop', 'Naa Manasu Neelo', 'Temper', 'Devudaa', 'Pranaamam', 'Rock On Bro', 'Jayaho Janatha', 'Raavana', 'Cheliya Cheliya', 'Nee Yadalo Naaku', 'Bujji Bangaram', 'Andamaina Premarani', 'Yentha Sakkagunnave (From \"Rangasthalam\")', 'Ye Jilla', 'Karige Loga', 'Aakasa Ganga', 'Hrudayam Ekkadunnadi', 'Oka Maaru', 'Chudandi Saaru', 'Ori Devuda', 'Nippulanti Nirudyogi', 'Raa Raa', 'Vaalu Kalla Vayyaari', 'Jatha Kalise', 'Bapu Gari Bommo', 'Feel My Love', 'Sailaja Sailaja', 'Baitikochi Chuste', 'Ninnu Chudagaane', 'Run Run', 'Nalla Nallaani Kalla', 'Kilimanjaro Bhala', 'Kadalalle (From \"Dear Comrade\")', 'Nee Neeli Kannullona (From \"Dear Comrade\")', 'Marhaba', 'Yenno Yenno', 'Varinche Prema', 'Gathama Gathama', 'Na Cheli Rojave', 'Chinna Chinna Aasha (Version 1)', 'Ammaye', 'Cheliya', 'Aaduvari', 'Vana Vana', 'Gummadi Gummadi', 'Gundu Sudhi', 'Daang Daang (From \"Sarileru Neekevvaru\")', 'He’s Soo Cute (From \"Sarileru Neekevvaru\")', 'Coca Cola Pepsi', 'Ramuloo Ramulaa - Duet', 'Samajavaragamana', 'Suryudivo Chandrudivo (From \"Sarileru Neekevvaru\")', 'Ninnu Chuse Anandamlo (From \"Gang Leader\")', 'Mella Mellagaa', 'Ye Manishike Majiliyo', 'Bulreddy (From \"Sita\")', 'Koppamga Koppamga - From \"Mr. Majnu\"', 'Massu Maranam - From \"Petta (Telugu)\"', 'Buttabomma - Telugu', 'OMG Daddy - Telugu', 'Hoyna Hoyna (From \"Gang Leader\")', 'Thandaane Thandaane', 'Sada Nannu', 'Kothaga', 'Most Wanted Abbayi', 'Ammaye Challo Antu', 'Nuvvele Nuvvele', 'Guruvaram', 'Vinnane Vinnane', 'Swing Zara', 'Gudilo Badilo Madilo', 'Raarandoi Veduka Choodham', 'Ide Kalala Vunnadhe', 'Box Badhalai Poyi', 'Ga Gha Megha', 'Neeli Neeli Aakasam (From \"30 Rojullo Preminchadam Ela\")', 'Ala Vaikunthapurramuloo', 'Whattey Beauty - Telugu', 'Mind Block (From \"Sarileru Neekevvaru\")', 'Bullet', 'Ninnu Chuse Anandamlo', 'Singilu Singilu - From \"90ML\"', 'Coca Cola Pepsi - Telugu', 'You Are My High (From \"Prati Roju Pandaage\")', 'Nee Navvule Vennelani', 'Muqabla (From \"Street Dancer 3D\") [Telugu]', 'Daang Daang', 'Pilla Picture Perfect', 'Undipova - Telugu', 'Gangu Leader', 'Andham Andham', 'Chiru Chiru', 'Yedho', 'Chuttesai Chuttesai', 'Evaree Ammayee Ani', 'Devatha', 'Rendu Kallu', 'Nee Paata Madhuram - The Touch of Love', 'Po Ve Po - The Pain of Love', 'Kannuladha - The Kiss of Love', 'Yedhalo Oka Mounam - The Innocence of Love', 'I Just Love You Baby', 'Oh My Love', 'Vennelaina Remix', 'Kothagunna Haye', 'Stylish Tingarabuchi', 'Tella Tellani Cheera', 'Pilla O Pilla', 'Inkem Inkem Inkem Kaavaale', 'Manasulo Madhve', 'Jagadhanandhakaraka', 'Dasarathi', 'Charanamulane', 'Sita Rama Charitham', 'Nigama Nigamantha', 'Evadunnadu', 'Nee Kallalona (From \"Jai Lava Kusa\")', 'Telusaa Telusaa', 'Choosa Choosa', 'Nee Kannu Neeli Samudram - Telugu', 'Po Pove Yekantham', 'Nammaka Tappani', 'Adaragottu', 'Nee Soku Maada', 'Taratha Etthuku', 'Muripinchey', 'Tu Mera Jil', 'Dil Mangey More', 'Athiloka Sundari', 'You Are My Mla', 'Blockbuster', 'Sarrainodu', 'O Sayonara', 'Hello Rammante', 'Kallumoosi', 'Sada Siva', 'Jare Jare', 'Rangamma Mangamma (From \"Rangasthalam\")', 'Come To The Party', 'Choopultho Guchi', 'Gaajuvaka Pilla', 'Oy..Oy..', 'Nuvvu Nuvvu', 'Poovullo Daagunna', 'Kannulatho Choosevi', 'Nuvvasthanante', 'Nachave Nizam Pori', 'Okkasari Cheppaleva', 'Oke Oka Mata', 'Merisindi Megham', 'Madhurame', 'Devullemechindhi', 'Ay Pilla - Telugu', 'Netho Cheppana', 'Nuvvena', 'Nee Kallathoti', 'Pillagali', 'Nenu Nenuga', 'Sogasu Choodatharama', 'Emantaro', 'Hoyna', 'Niddura Potunna', 'Naa Chupe Ninu', 'Madhura Madhuratara', 'Unnamata Cheppanivu', 'My Heart is Beating', 'Nee Navvula', 'Vachhe Vachhe', 'Maha Muddu', 'Prema Prema', 'Ghal Ghal', 'Edhuta Nilichindhi', 'Naaku Neeku', 'Nanne Nanne', 'Raanu Raanu', 'Naalo Chilipi Kala (Theme Song)', 'Nuvvante Na Navvu', 'Andhamyna Bhamalu', 'Konte Chooputho', 'Gulabi Kallu Rendu Mullu', 'Pedhavi Daatani', 'Badhulu Thochanai', 'Aakasam Badhalaina', 'Neetho Unte Chalu', 'Naalo Oohalaku', 'Inka Edho', 'Endhuko Emo', 'Manasa', 'Padipoya', 'Andamaina Lokam', 'Jennifer Lopez', 'You & Me (From \"Khaidi No 150\")', 'Nee Prashnalu', 'Vayari Bhama', 'Chaila Chaila', 'Varsham Munduga', 'O’Pilla Shubhanalla', 'Hey Badhulu Cheppavey', 'Ye Swasalo', 'Gopikamma', 'Nandalaala', 'Adigaa Adigaa (From \"Akhanda\")', 'Flute Music Bit', 'Ichchi Puchchu', 'Deva Devam', 'Neeve', 'Oorugalle', 'Saripovu', 'Aha Allari', 'Choolenge Aasma', 'Evare', 'Ye Cheekati', 'Champesaave Nannu', 'Neelakashamlo', 'Pilichina', 'Ye Chilipi', 'Andhamaina Chandhamaama', 'Nuvvem Maya', 'Chali Gaali Chuudduu', 'Vaalu Kalla Pilla', 'Bangala Kathamulo', 'O Sakkanoda (From \"Guru\")', 'Saami Saami (From \"Pushpa - The Rise\")(Telugu)', 'Gira Gira Gira (From \"Dear Comrade\")', 'Mudduletti', 'Life Of Ram', 'Sirivennela', 'Rayyi Rayyi Mantu', 'Srivalli (From \"Pushpa - The Rise\")(Telugu)', 'Pataku Pranam', 'Tillu Anna DJ Pedithe', 'Kalaavathi', 'Atta Sudake', 'Eyy Bidda Idhi Naa Adda (From \"Pushpa - The Rise\")(Telugu)', 'Teliyade Teliyade', 'Brindavanam', 'Kaatuka Kallu', 'Yenti Yenti', 'Door Number Okati', 'Puttene Prema', 'Samayama', 'Yevvarra Manaki Custody', 'Prema Swaramulalo', 'Manmadhude', 'Mounamgane', 'Gurthukostunnayi', 'Thalabadi', 'Rayini Maatram', 'Janani (From \"Rrr\")', 'Oo Antava Oo Oo Antava', 'Vintunnavaa', 'Manasaa', 'Akkad Bakkad', 'Gichchi Gichchi', 'Nuvve Nuvve Kavalantundi', 'Vurike Chilakaa - Bombay / Soundtrack Version', 'The Monster Song - Extended Version', 'Vikram Title Track - Telugu', 'Ma Ma Mahesha', 'Itu Itu Ani Chitikelu Evvarivo', 'Arere Vaanaa', 'Neneppudaina', 'Kallolam (From \"Padi Padi Leche Manasu\")', 'Gala Gala', 'Lachhamma', 'Once Upon A Time Lo', 'Chinnadana Neekosam', 'Hulala', 'Choododhu', 'Avunu Nijam', 'Vayyarala', 'Aakasam', 'Sweety', 'Cheppamma', 'Dhooram Dhooram', 'Manmadha Raja', 'La La Bheemla', 'Mathuga Mathuga', 'Once Upon a Time', 'Kolu Kolu (From \"Virataparvam\")', 'Naalo Nenu', 'Veyi Subhamulu', 'Sita Seemantham', 'Vana Vallappa', 'Preminche Premava', 'Oh Sita Hey Rama (From \"Sita Ramam (Telugu)\")', 'Kaanunna Kalyanam (From \"Sita Ramam (Telugu)\")', 'Venello Hai', 'Gundello Emundho', 'Ey Pilla Pilla', 'Chandrullo Unde', 'Nenante Naaku', 'Colorful Chilaka', 'Pareshanura', 'Chitti Nadumune', 'Nee Chepakallu', 'A Vachi B Pai', 'Thakita Thakajham', 'Kalasalalo', 'Guvva Gorinkatho', 'Muddabanthi (From \"Kousalya Krishnamurthy\")', 'Oye Meghamla', 'Mukundha Mukundha', 'Khata Vintawa', 'Ra Ra Rakkamma (From \"Vikrant Rona\")', 'Subhalekha Rasukunna', 'Mate Rani', 'Nee Jathaga', 'Tolakari Chinukai', 'Dhinaku Dhin Jiya', 'Thalachithalachi(Female)', 'Anandama', 'Neekosam', 'Andala Srimathiki', 'Kokilamma', 'Antha Siddanga', 'Jabiliki', 'Anukoledenadu', 'Chinnadamme Cheekulu', 'Jiya Jile', 'Akasam Ammayaithe', 'Inka Cheppale', 'One More Time', 'Dole Dole', 'Puvvalaku Rangeyala (From \"Joru\")', 'Yemantave', 'Chirunavve Visirave', 'Manase Baruvai', 'Yamaho Yama', 'Em Cheppanu', 'Emaindhi Eevela', 'Nee Choopule', 'Kathi Lanti Pilla', 'Daredumdadum', 'Kanne Kanne (From \"Arjun Suravaram\")', 'Pilla Nuvvu Leni Jeevitham', 'Amma Amma', 'Emannavoo', 'Kaadhana Preme (Version 1)', 'Ippatikinka', 'College Papala', 'Snehithudaa', 'Yemito', 'Neelo Ninnu', 'Mandaara', 'Aathma Raama', 'Tu Tu Tu', 'Vanochhenante', 'Mastaaru Mastaaru (From \"Sir\")(Telugu)', 'Nellorae', 'Vennelave Vennelave', 'Yemi Cheyamanduve', 'Em Sandeham Ledu', 'Etthara Jenda (From \"RRR\")', 'Neekosam Oka', 'Merupula', 'Eyi Raja', 'Sri Rama Lera', 'Attarintiki', 'Inthaku Nuvvevaru', 'Mandaara (From \"Bhaagamathie\")', 'Siggesthondi', 'Jada Thoti Kodithey', 'Nelluri Nerajana', 'Andala Raakshasive', 'Shakalakka Baby', 'Erruvaaka', 'Uttimeedha Koodu', 'Om Mahaprana Deepam', 'Enno Ratrulosthayi Remix Song', 'Chakori', 'Kailove Chedugudu', 'Alaipongeraa', 'Pachchadanamey', 'My Name Is Billa (From \"Billa\")', 'Naa Manasuki', 'Naaloney Pongaynu', 'Love Elephantla', 'O Sukumari', 'Kondakaki', 'Naa Manasuney', 'Raave Na Cheliya', 'Sasivadane', 'Mallieswarivey', 'Arare Arare', 'Mutyala Dhaarani', 'Nenunnanani', 'Jorse Jorse', 'Naakosam', 'Prema Desam', 'Yellipoke Shyamala', 'Chandamame', 'Nuvve Nuvve (From \"Kick 2\")', 'Ninne Ninne - Telugu', 'Ee Manchullo', 'Neeve Neeve', 'Naa Gundello', 'Edo Jarugutondi', 'Aale Bale', 'Beautiful Girl', 'Adirey Adirey', 'Nee Selvadigi', 'Something Something', 'Doboochulaatelara', 'Pachani Chilukalu', 'Allantha Doorala', 'Barbie Girl', 'Kannanule - Bombay / Soundtrack Version', 'Swathilo Muthyamantha (From \"Bangaru Bullodu\")', 'Elluvochi Godaramma', 'Ninnu Road Meedha', 'Enduko (Male)', 'Abbanee', 'Chamak Chamak Cham (Remix)', 'Thilaana Thilaana', 'Vaana Vaana - From \"Racha\", Remix', 'Balapam Patti', 'Pranamlo Pranamga', 'Monna Kanipinchavu', 'Challa Gaali Thakuthunna', 'Kanapadava Female', 'Swathilo Muthyamantha', 'Priya Raagale', 'Chinuku Chinuku Andelatho - From \"Subhalagnam\"', 'Kannu Kottina', 'Neelo Jarige', 'Oka Thotalo', 'Okka Magaadu', 'Ammayi Kitiki Pakkana', 'Rose Rose Rose', 'Kammani', 'Egiripothe Entha Baaaguntundi', 'Aamani', 'Jallantha', 'O Priya', 'Pari Poke Pitta', 'Brahmamurari', 'Jai Shri Ram (Telugu)', 'Priya Mithunam (Telugu)', 'Prati Dinam', 'Prema Yatralaku', 'Nalona', 'Padara Padara', 'Naatho Vasthavaa', 'Egirey Mabbulona', 'Osa Osa', 'Maro Maro', 'Jabilammavo', 'Bunny Bunny', 'Jara Jara', 'Rakhi Rakhi', 'Ninnu Choosthey', 'Dai Dai Dhamma', 'Ghallu Ghallu', 'Chitti Chitti Pulakintha', 'Nee Pere Teliyadhugaa', 'Meghama', 'Adiye - From \"Bachelor\"', 'Aunty Koothura', 'Merupaisagara', 'Devuda Devuda', 'Padmavathi Padmavathi', 'Cheli Chedugudu Gemini', 'Loka Nayakuda - Come Dance With Me', 'Okade Okkadu', 'O Maramanishi', 'Maa Bava Manobhavalu (From \"Veera Simha Reddy\")', 'Ale Ale', 'Paruvam Vanaga (From \"Roja\")', 'Mudinepalli', 'Vastha Nee Venuka', 'Taanu Nenu', 'Prema Ane', 'Sankurathri Kodi', 'Hello Doctor', 'Nanu Preminchananu', 'Adi Arabi Kadalandam - Bombay / Soundtrack Version', 'Yekku Tholi Mettu', 'Meriseti Puvvaa', 'Gali Chiru Gali', 'Jampanduve', 'Ammo Ammayena', 'Godaralle Ponge', 'Ninu Choodaka', 'Kannullo Nee Roopame', 'Priya', 'Vaalu Kanuladaanaa', 'Tippulu Tappulu', 'Oororo Yogi', 'Ee Veduka (From \"Ashoka Vanamlo Arjuna Kalyanam\")', 'Kalapakkaara (From \"King of Kotha\")', 'Janavule Nerajanavule', 'Chandamama', 'Alanati Ramachandrudu', 'Abacha', 'Athimettani', 'Sammohanuda (From \"Rules Ranjann\")', 'Yaanji - From \"Vikram Vedha\"', 'Suddha Brahma', 'Nanu Brovamani', 'Paluke Bangaramayera', 'Bhadra Shaila', 'Mangalam', 'Lahiri Laahiri Lo', 'Choopula Kalasina Subhavela', 'Neevena Nanu Thalachinadhi', 'Aha Naa Pelliyanta', 'Vinnaava Yesodhamma', 'Mangalamu Ramunaku', 'Yamunatheeram', 'Kannula Baasalu', 'Ye Mera Jaha', 'Hai Hai', 'Chinnaga Chinnaga', 'Bharata Vedamuga', 'Arjan Vailly', 'Evarevaro', 'Ammayi', 'Kashmeeru', 'Yaalo Yaalaa', 'Muppy Aaru', 'Mannela Tintivira', 'Padhe Padhe (Jersey)', 'Akalesthey', 'Veera Raja Veera', 'Yeto Vellipoyindi', 'Nunugu Misalodu', 'Suttamla Soosi', 'Gore Gore', 'Yedhane Koiyakae', 'Chinni Chinni Aasalu', 'Naalo Maimarapu', 'Konchem Konchem', 'Nenani Neevani', 'Panchadaara', 'Love Me Again', 'Kundanapu Bomma', 'Chalore Chalore (Telugu)', 'Aaraduguluntada', 'Sri Seetharamula Kalyanam', 'Adivo Alladivo', 'Agni Skalana', 'Nallani Vannio', 'Attantode', 'Dheera Dheera', 'Edo Oka Raagam Female', 'Kavvinchake', 'Kannula Logililo', 'Pallavinchu Toli', 'Fear Song (From \"Devara Part 1\") [Telugu]', 'Sooseki (From \"Pushpa 2 The Rule\") [TELUGU]', 'Pushpa Pushpa (From \"Pushpa 2 The Rule\") [TELUGU]', 'Kanne Pillavani', 'Ottagtha Katikko', 'Neelavanka Thongi', 'Dil Se', 'Jum Jum Maya', 'Ee Velalo Neevu', 'Nannu Dochu Kunduvatey', 'Nannu Vadali', 'Entha Haayi Ee Reyi', 'Godaari Gattundi', 'Adireti', 'Neela Ravile (From \"Merry Christmas\") [Tamil]', 'Nee Mukilo - From \"Uyare\"', 'Ye Ye Enna Aachu', 'Theme Of Kalki', 'Abhimanyudu', 'Naa Chore', 'Andhanikey', 'Bangaru Kalla', 'Muvvala Navakala', 'Pataas Pilla', 'Gundellonaa', 'Kanule Kanele', 'Adhento Gaani Vunnapaatuga(Jersey)', 'Ticket Eh Konakunda', 'Dol Dol Dol Bhaje', 'Maayera', 'Manasuna Mansuga', 'Andangalena', 'Adaraku', 'Diyalo Diyala', 'Sawaar Loon', 'Haan Ke Haan', 'Nee Kannu Neeli Samudram', 'Eswara', 'Jala Jala Jalapaatham Nuvvu', 'Ranguladdhukunna', 'Chiki Chiki Bum', 'Diwali Deepaanni', 'Cheema Cheema', 'Ayudha Pooja [TELUGU]', 'Naalo Unna Prema', 'Jaamurathiri', 'Vinnapalu Vinavle', 'Manasilaayo (From \"Vettaiyan\")', 'Oh Kshnam Navvune Visuru', 'Lokiverse - Background Score', 'Emai Pothane', 'Emitemitemo - Telugu', 'One & Two & Three', 'Allegro', 'Darlingey', 'Prema O Premaa', 'Nemali Kulukula', 'Singarala', 'Hello Guru', 'Yamaha Nagari', 'Hylessa', 'Sai Andri Nanu Sai Antira', 'Vaastu Bagunde', 'Priyathama', 'Devude Digi Vachina', 'Manasa Manasa - Telugu', 'Ningi Jaaripadda', 'Malli Kuyave', 'Priya Priyathama', 'Mee Intiki Mundhu', 'Thanemando', 'Thelusa Manasa', 'Ne Chuk Chuk', 'Le Letha', 'Manmadha', 'Usure Poyene', 'Asale Pilla', 'Cheppave Prema', 'Thuneega Thuneega', 'Nee Sneham', 'Kita Kita Thalupulu', 'Evvarineppudu', 'Manasantha Nuvve', 'Chinuku Thadiki', 'Nuvvante Naakishtamani', 'Nee Tholisariga', 'Langa Voni', 'Yeppatiki (Veyi Kannulatho)', 'Veyi Kannulatho', 'Ooruko Hrudayama', 'Madhuram Madhuram', 'Nee Venta Nene', 'Nallanchu Thellacheera (From \"Mr. Bachchan\")', 'Vasthava Vasthava', 'Jilibili Palukula', 'Konthakalam Kindata', 'Choododde Nannu', 'Hungry Cheetah (From \"They Call Him OG\")', 'Holi Holi', 'Naa Gundelo', 'Nuvve Naku Pranam', 'Gunnamavi', 'Vaaji Vaaji']\n",
      "playing the latest added songs\n",
      "video: Vaaji Vaaji || Sivaji Telugu Video Songs || A R RAHMAN\n",
      "{'artist': 'A.R. Rahman', 'album': 'Sivaji The Boss', 'added_at': '2024-11-08T12:54:30Z'}\n"
     ]
    }
   ],
   "source": [
    "# play_songs(\"https://open.spotify.com/playlist/7AqXmRc7mk5dhendjlxkpe?si=0e9fcafa6f7549a7\", \n",
    "        #    \"english\", \"Chrome\")\n",
    "\n",
    "play_songs(\"https://open.spotify.com/playlist/6XhHeU2bF2bsLKfmjwuUlD?si=67ed3192131f4192\", \n",
    "           \"telugu\", \"FireFox\", shuffle=False)"
   ]
  },
  {
   "cell_type": "code",
   "execution_count": null,
   "metadata": {},
   "outputs": [],
   "source": [
    "# cnt =0\n",
    "# for key, val in TNS_dic.items():\n",
    "#     cnt += 1\n",
    "#     if cnt == 8:\n",
    "#         videos = VideosSearch(key+\" video \"+TNS_dic[key].get('artist')+\" \"+TNS_dic[key].get('album')+\" telugu\", limit=3)\n",
    "#         print(key+\" video \"+TNS_dic[key].get('artist')+\" \"+TNS_dic[key].get('album')+\" telugu\")\n",
    "#         break"
   ]
  },
  {
   "cell_type": "code",
   "execution_count": null,
   "metadata": {},
   "outputs": [],
   "source": [
    "# for i in videos.result()['result']:\n",
    "#     temp_title = i.get('title')\n",
    "#     # print(temp_title)\n",
    "#     if (\"Video\" in temp_title) or (\"video\" in temp_title):\n",
    "#         print(\"video:\",temp_title)"
   ]
  },
  {
   "cell_type": "code",
   "execution_count": 2,
   "metadata": {},
   "outputs": [],
   "source": []
  },
  {
   "cell_type": "code",
   "execution_count": 1,
   "metadata": {},
   "outputs": [
    {
     "name": "stdout",
     "output_type": "stream",
     "text": [
      "video: Russ - 3:15 (Breathe) (Official Video)\n",
      "{'artist': 'Jax Jones', 'album': 'Breathe'}\n",
      "video: Bea Miller NEVER GONNA LIKE YOU ft Snakehips (Lyrics Video)\n",
      "{'artist': 'Bea Miller', 'album': 'NEVER GONNA LIKE YOU'}\n",
      "video: Maggie Lindemann - Pretty Girl [Official Music Video]\n",
      "{'artist': 'Maggie Lindemann', 'album': 'Pretty Girl'}\n",
      "video: Noa Kirel - Thought About That (Official Music Video)\n",
      "{'artist': 'Noa Kirel', 'album': 'Thought About That'}\n",
      "video: Maroon 5 - Animals (Lyric Video)\n",
      "{'artist': 'Maroon 5', 'album': 'V (Asia Tour Edition)'}\n",
      "video: Taylor Swift - Paper Rings (Lyric Video)\n",
      "{'artist': 'Taylor Swift', 'album': 'Lover'}\n",
      "video: Olivia Rodrigo - deja vu (Official Video)\n",
      "{'artist': 'Olivia Rodrigo', 'album': 'SOUR'}\n",
      "video: Thriller- Michael Jackson(Thriller Anniversary VideoMix)\n",
      "{'artist': 'Michael Jackson', 'album': 'Thriller 25 Super Deluxe Edition'}\n",
      "video: Katy Perry - Teenage Dream (Official Music Video)\n",
      "{'artist': 'Katy Perry', 'album': 'Teenage Dream: The Complete Confection'}\n",
      "video: Britney Spears - 3 (Official HD Video)\n",
      "{'artist': 'Britney Spears', 'album': 'The Singles Collection'}\n",
      "video: Zedd, Kesha - True Colors (Lyric Video)\n",
      "{'artist': 'Zedd', 'album': 'True Colors'}\n",
      "video: Cheat Codes, Little Mix - Only You (Official Video)\n",
      "{'artist': 'Cheat Codes', 'album': 'Only You (with Little Mix)'}\n",
      "video: Kygo, Selena Gomez - It Ain't Me (Official Video)\n",
      "{'artist': 'Kygo', 'album': \"It Ain't Me (with Selena Gomez)\"}\n",
      "video: Olivia Rodrigo - traitor (Official Video)\n",
      "{'artist': 'Olivia Rodrigo', 'album': 'SOUR'}\n",
      "video: Aquaman Official Soundtrack | Everything I Need Lyric Video - Skylar Grey | WaterTower\n",
      "{'artist': 'Rupert Gregson-Williams', 'album': 'Aquaman (Original Motion Picture Soundtrack) [Deluxe Edition]'}\n",
      "video: Tate McRae - she's all i wanna be (Official Video)\n",
      "{'artist': 'Bea Miller', 'album': 'aurora'}\n",
      "video: Kelly Clarkson - Stronger (What Doesn't Kill You) [Official Video]\n",
      "{'artist': 'Kelly Clarkson', 'album': 'Stronger (Deluxe Version)'}\n",
      "video: Stephen Sanchez, Em Beihold - Until I Found You (Lyric Video)\n",
      "{'artist': 'Stephen Sanchez', 'album': 'Until I Found You (Em Beihold Version)'}\n",
      "video: SAINt JHN - Roses (Imanbek Remix) (Official Music Video)\n",
      "{'artist': 'SAINt JHN', 'album': 'Roses (Imanbek Remix)'}\n",
      "video: Charlie Puth - We Don't Talk Anymore (feat. Selena Gomez) [Official Video]\n",
      "{'artist': 'Charlie Puth', 'album': 'Nine Track Mind'}\n",
      "video: Selena Gomez - Rare (Official Music Video)\n",
      "{'artist': 'Selena Gomez', 'album': 'Rare (Deluxe)'}\n",
      "video: Little Mix - Salute (Official Video)\n",
      "{'artist': 'Little Mix', 'album': 'Salute (Expanded Edition)'}\n",
      "{'artist': 'Ina Wroldsen', 'album': 'Strongest'}\n",
      "video: Britney Spears - Oops!...I Did It Again (Official HD Video)\n",
      "{'artist': 'Britney Spears', 'album': 'Oops!... I Did It Again'}\n",
      "video: Royal & the Serpent - Overwhelmed (Official Music Video)\n",
      "{'artist': 'Royal & the Serpent', 'album': 'Overwhelmed'}\n"
     ]
    }
   ],
   "source": [
    "import spot_to_yt as sty\n",
    "cc = sty.Play_video(\"https://open.spotify.com/playlist/7AqXmRc7mk5dhendjlxkpe?si=0e9fcafa6f7549a7\", \n",
    "           \"english\", \"firefox\")"
   ]
  },
  {
   "cell_type": "code",
   "execution_count": 1,
   "metadata": {},
   "outputs": [
    {
     "name": "stdout",
     "output_type": "stream",
     "text": [
      "{'artist': 'M. M. Keeravaani', 'album': 'Naa Autograph'}\n",
      "video: Rangamma Mangamma Full Video Song | Rangasthalam Video Songs |Ram Charan, Samantha\n",
      "{'artist': 'Devi Sri Prasad', 'album': 'Rangamma Mangamma (From \"Rangasthalam\")'}\n",
      "video: Kondaveeti Donga Songs - Subhalekha Rasukunna - Chiranjeevi, Radha  - Ganesh Videos\n",
      "{'artist': 'Ilaiyaraaja', 'album': 'Ilaiyaraaja Romantic Telugu Hits'}\n",
      "video: Athadu Title Video Song ||  Athadu Video Songs || Mahesh Babu,Trisha\n",
      "{'artist': 'Mani Sharma', 'album': 'Athadu'}\n",
      "video: Okkasari Cheppaleva Video Song | Nuvvu Naaku Nachav Movie | Venkatesh | Aarthi Agarwal | Vega Music\n",
      "{'artist': 'Koti', 'album': 'Nuvvu Naaku Nachchav'}\n",
      "{'artist': 'M. M. Keeravaani', 'album': 'Chatrapathi'}\n",
      "video: Choolenge Aasma Full Video Song - Temper Video Songs - Jr.Ntr,Kajal Agarwal\n",
      "{'artist': 'Anup Rubens', 'album': 'Temper'}\n",
      "video: Majnu Video Songs | Jare Jare Full Video Song | Nani | Anu Immanuel | Gopi Sunder\n",
      "{'artist': 'Gopi Sundar', 'album': 'Majnu'}\n",
      "video: Mandaara Video Song | Bhaagamathie | Anushka | Shreya Ghoshal | Thaman S\n",
      "{'artist': 'Thaman S', 'album': 'Bhaagamathie'}\n",
      "video: Sankranti Movie Songs - Andala Srimathiki - Venkatesh, Sneha - Ganesh Videos\n",
      "{'artist': 'S.A. Rajkumar', 'album': 'Sankranthi'}\n",
      "video: Dasarathi  Video Song || Sri Ramadasu Video Songs || Nagarjuna, Sneha\n",
      "{'artist': 'M. M. Keeravaani', 'album': 'Sri Ramadasu'}\n",
      "video: Maha Muddu Full Video Song || Jai Chiranjeeva Movie || Chiranjeevi, Bhoomika Chawla, Sameera Reddy\n",
      "{'artist': 'Mani Sharma', 'album': 'Jai Chiranjeeva'}\n"
     ]
    },
    {
     "ename": "",
     "evalue": "",
     "output_type": "error",
     "traceback": [
      "\u001b[1;31mThe Kernel crashed while executing code in the current cell or a previous cell. \n",
      "\u001b[1;31mPlease review the code in the cell(s) to identify a possible cause of the failure. \n",
      "\u001b[1;31mClick <a href='https://aka.ms/vscodeJupyterKernelCrash'>here</a> for more info. \n",
      "\u001b[1;31mView Jupyter <a href='command:jupyter.viewOutput'>log</a> for further details."
     ]
    }
   ],
   "source": [
    "import spot_to_yt as sty\n",
    "cc = sty.Play_video(\"https://open.spotify.com/playlist/6XhHeU2bF2bsLKfmjwuUlD?si=qFD47KctRDqhzFkiBPkVpw\", \n",
    "            \"telugu\", \"firefox\")"
   ]
  },
  {
   "cell_type": "code",
   "execution_count": 1,
   "metadata": {},
   "outputs": [
    {
     "name": "stdout",
     "output_type": "stream",
     "text": [
      "video: I Dont Want Love 4k Video Song ll Kick Movie ll Ravi Teja, Iliyana\n",
      "{'artist': 'Thaman S', 'album': 'Kick'}\n",
      "video: Okkadu Video Songs - Cheppave Chirugaali || Mahesh Babu, Bhoomika || Udit Narayan || Mani Sharma\n",
      "{'artist': 'Mani Sharma', 'album': 'Okkadu'}\n",
      "{'artist': 'M. M. Keeravani', 'album': 'Anukokunda Oka Roju (Original Motion Picture Soundtrack)'}\n"
     ]
    }
   ],
   "source": [
    "import spot_to_yt as sty\n",
    "cc = sty.Play_video(\"https://open.spotify.com/playlist/7bUJaaksI2okk2ccSq0u2G?si=yFoBvCJ4TpiqNlJrSYADig&pi=a-CmgfvnGyQFai\", \n",
    "            \"telugu\", \"firefox\")"
   ]
  },
  {
   "cell_type": "code",
   "execution_count": 1,
   "metadata": {},
   "outputs": [
    {
     "name": "stdout",
     "output_type": "stream",
     "text": [
      "some error occurred\n",
      "video: Ayyo Paapam Video Song With Lyrics II Yevadu Songs\n",
      "{'artist': 'Devi Sri Prasad', 'album': 'Yevadu (Original Motion Picture Soundtrack)'}\n",
      "video: Paisa Vasool Full Video Songs | Paisa Vasool Movie | Balakrishna, Puri Jagannadh, Anup Rubens\n",
      "{'artist': 'Anup Rubens', 'album': 'Paisa Vasool (Original Motion Picture Soundtrack)'}\n",
      "video: Kanyakumari 4k Video Song || Damarukam Movie || Nagarjuna akkineni, Anushka Shetty\n",
      "{'artist': 'Devi Sri Prasad', 'album': 'Damarukam (Original Motion Picture Soundtrack)'}\n",
      "video: Shankar Dada M.B.B.S Movie || Naa Pere Kanchanmala Video Song || Chiranjeevi || Shalimarcinema\n",
      "{'artist': 'Devi Sri Prasad', 'album': 'Shankerdada M B B S'}\n",
      "video: Aakalesthe Video Full Song HD ll Shankardada Zindabad Movie ll Prabhudeva,Chiranjeevi\n",
      "{'artist': 'Devi Sri Prasad', 'album': 'Shankardada Zindabad'}\n",
      "video: Businessman Movie Songs | We Love Bad Boys Video Song | Mahesh Babu | Kajal Aggarwal | Vega Music\n",
      "{'artist': 'Thaman S', 'album': 'Businessman (Original Motion Picture Soundtrack)'}\n",
      "video: Paparayudu 4k Video Song || Panjaa ||  Pawan Kalyan,Sarah Jane Dias, Anjali Lavania\n",
      "{'artist': 'Yuvan Shankar Raja', 'album': 'Panjaa (Original Motion Picture Soundtrack)'}\n",
      "video: Bombhaat Full Video Song | Lie Video Songs | Nithiin , Megha Akash | Mani Sharma\n",
      "{'artist': 'Mani Sharma', 'album': 'Bombhaat (From \"LIE\")'}\n",
      "video: Orugalluke Pilla Full HD Video Song || Sainikudu || Mahesh Babu, Trisha || Jordaar Movies\n",
      "{'artist': 'Harris Jayaraj', 'album': 'Sainikudu'}\n",
      "video: Babu Rambabu Full Video Song | Kevvu Keka Video Songs | Allari Naresh, Mumaith Khan, Sharmila Mandre\n",
      "{'artist': 'Bheems Ceciroleo', 'album': 'Kevvu Keka'}\n",
      "video: Veede Veede 4K Full Video Song | Bellamkonda Sreenivas | Rakul Preet | DSP | Boyapati Srinu\n",
      "{'artist': 'Devi Sri Prasad', 'album': 'Jaya Janaki Nayaka (Original Motion Picture Soundtrack)'}\n"
     ]
    }
   ],
   "source": [
    "import spot_to_yt as sty\n",
    "cc = sty.Play_video(\"https://open.spotify.com/playlist/37i9dQZF1DX5fit7Rq5tmH?si=2dd9d6996bfc42a8\", \n",
    "            \"telugu\", \"firefox\")"
   ]
  },
  {
   "cell_type": "code",
   "execution_count": null,
   "metadata": {},
   "outputs": [],
   "source": []
  },
  {
   "cell_type": "markdown",
   "metadata": {},
   "source": [
    "###  EXP"
   ]
  },
  {
   "cell_type": "code",
   "execution_count": null,
   "metadata": {},
   "outputs": [],
   "source": []
  }
 ],
 "metadata": {
  "kernelspec": {
   "display_name": "Python 3",
   "language": "python",
   "name": "python3"
  },
  "language_info": {
   "codemirror_mode": {
    "name": "ipython",
    "version": 3
   },
   "file_extension": ".py",
   "mimetype": "text/x-python",
   "name": "python",
   "nbconvert_exporter": "python",
   "pygments_lexer": "ipython3",
   "version": "3.11.3"
  }
 },
 "nbformat": 4,
 "nbformat_minor": 2
}
